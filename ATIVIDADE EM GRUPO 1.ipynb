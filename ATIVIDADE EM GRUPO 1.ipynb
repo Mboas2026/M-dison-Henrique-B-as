{
  "nbformat": 4,
  "nbformat_minor": 0,
  "metadata": {
    "colab": {
      "provenance": [],
      "toc_visible": true,
      "include_colab_link": true
    },
    "kernelspec": {
      "name": "python3",
      "display_name": "Python 3"
    },
    "language_info": {
      "name": "python"
    }
  },
  "cells": [
    {
      "cell_type": "markdown",
      "metadata": {
        "id": "view-in-github",
        "colab_type": "text"
      },
      "source": [
        "<a href=\"https://colab.research.google.com/github/Mboas2026/M-dison-Henrique-B-as/blob/main/ATIVIDADE%20EM%20GRUPO%201.ipynb\" target=\"_parent\"><img src=\"https://colab.research.google.com/assets/colab-badge.svg\" alt=\"Open In Colab\"/></a>"
      ]
    },
    {
      "cell_type": "markdown",
      "source": [
        "# Título do projeto:\n",
        "\n",
        "Monitoramento de casos de doenças de veiculação hídrica em comunidades tradicionais do Norte de Minas Gerais."
      ],
      "metadata": {
        "id": "egfKq3rlQmZi"
      }
    },
    {
      "cell_type": "markdown",
      "source": [
        "# Integrantes do grupo:\n",
        "\n",
        "Alisson Ramos Martins\n",
        "\n",
        "Mádison Henrique Bôas"
      ],
      "metadata": {
        "id": "dRpCnJcRTcgN"
      }
    },
    {
      "cell_type": "markdown",
      "source": [
        "# Polo:\n",
        "\n",
        "Itabira - MG"
      ],
      "metadata": {
        "id": "kHesA6GjWdMM"
      }
    },
    {
      "cell_type": "markdown",
      "source": [
        "# 1. Justificativa\n",
        "\n",
        "O pré-projeto de pesquisa possui o título preliminar \"Monitoramento de casos de doenças de veiculação hídrica em comunidades tradicionais do Norte de Minas Gerais\" Pretende-se verificar uma correlação entre eventuais melhorias das condições sanitárias das comunidades elencadas para o estudo com a redução no número de notificações de casos de doenças de veiculação hídrica. Tendo como referências os dados serão coletados nos sites do IBGE, SINAN, SISAGUA, SNIS, além de dados registrados e sistematizados pelos próprios municípios de estudo. Além disso utilizar alguns critérios para filtrar dados como:\n",
        "\n",
        "* Vulnerabilidade social;\n",
        "\n",
        "* Existência de dados sobre doenças de veiculação hídrica nos sistemas de informação do setor saúde;\n",
        "\n",
        "* Características do meio físico (solo, pluviosidade, presença, volume e vazão de cursos hídricos, aquíferos);\n",
        "\n",
        "* Presença de infraestrutura de captação, armazenamento e distribuição de água para consumo humano (ex: cisternas para captação de água de chuva);\n",
        "\n",
        "* Sistematização, comparação, análise e discussão dos dados preliminares.\n",
        ""
      ],
      "metadata": {
        "id": "DuO_6saBQxEz"
      }
    },
    {
      "cell_type": "markdown",
      "source": [
        "# 2. Objetivos\n",
        "\n",
        "Verificar uma correlação entre eventuais melhorias das condições sanitárias das comunidades elencadas para o estudo com a redução no número de notificações de casos de doenças de veiculação hídrica. Nesse sentido, avaliar informações em relação aos direitos humanos de acesso a água em um sentido amplo de saneamento básico nas comunidades de estudo."
      ],
      "metadata": {
        "id": "NrWAfF9oQzMv"
      }
    },
    {
      "cell_type": "markdown",
      "source": [
        "# 3. Método\n",
        "\n",
        "Pretende-se identificar o status do estado da arte (pesquisa bibliográfica e\n",
        "documental sobre o Programa Água Para Todos e saneamento rural), pesquisa\n",
        "em bancos de dados oficiais (e. g. Sistema Nacional de Informações em\n",
        "Saneamento – SNIS, Sistema Nacional de Vigilância da Qualidade da Água\n",
        "para Consumo Humano – SISAGUA, Sistema de Informação de Agravos de\n",
        "Notificação – SINAN). A partir dos dados obtidos, pretende-se verificar uma\n",
        "correlação entre eventuais melhorias das condições sanitárias das\n",
        "comunidades elencadas para o estudo com a redução no número de\n",
        "notificações de casos de doenças de veiculação hídrica. Como resultado,\n",
        "pretende-se confeccionar mapas apresentando a evolução das notificações das\n",
        "doenças citadas nas localidades estudadas. Os dados serão comparados e\n",
        "discutidos, posteriormente, com os trabalhos identificados na fase de pesquisa\n",
        "bibliográfica. Por fim, serão apresentadas as conclusões do trabalho, suas\n",
        "limitações e sugestões para a realização de trabalhos futuros."
      ],
      "metadata": {
        "id": "eMf9N-_lQ1XR"
      }
    },
    {
      "cell_type": "markdown",
      "source": [
        "# 4. Desenvolvimento do projeto\n",
        "\n",
        "Para desenvolver o projeto será preciso inicialmente, a utilização de dados de localização das comunidades e soluções alternativas de abastecimento de água obtidas em visitas de campo (marcação de coordenadas de latitude e longitude em GPS portátil ou smartphone);\n",
        "Levantamento de dados secundários em bancos de dados oficiais (SNIS, SISAGUA, SINAN);\n",
        "Bases cartográficas obtidas no site do IBGE, além de dados obtidos em fontes de dados do próprio município.\n"
      ],
      "metadata": {
        "id": "Wj7FFU73Q4n3"
      }
    },
    {
      "cell_type": "markdown",
      "source": [
        "## 4.1 Carregamento dos dados"
      ],
      "metadata": {
        "id": "rYWBGZ3lRQZX"
      }
    },
    {
      "cell_type": "code",
      "source": [
        "# Códigos referentes a etapa de carregamento dos dados. Crie subseções, se necessário."
      ],
      "metadata": {
        "id": "kR49tg2iRVCe"
      },
      "execution_count": null,
      "outputs": []
    },
    {
      "cell_type": "markdown",
      "source": [
        "## 4.2 Preparação dos dados"
      ],
      "metadata": {
        "id": "gACCMH0xRTtD"
      }
    },
    {
      "cell_type": "code",
      "source": [
        "# Códigos referentes a etapa de preparação dos dados. Crie subseções, se necessário."
      ],
      "metadata": {
        "id": "yu1vsGrSRYki"
      },
      "execution_count": null,
      "outputs": []
    },
    {
      "cell_type": "markdown",
      "source": [
        "## 4.3 Realização de análises e visualização dos resultados"
      ],
      "metadata": {
        "id": "Kud__YJ6RZNq"
      }
    },
    {
      "cell_type": "code",
      "source": [
        "'''\n",
        "Códigos referentes a etapa de realização de análises e visualização de resultados.\n",
        "Crie subseções, se necessário.\n",
        "'''"
      ],
      "metadata": {
        "id": "PJ_V6ouARe9H"
      },
      "execution_count": null,
      "outputs": []
    },
    {
      "cell_type": "markdown",
      "source": [
        "# 5. Conclusão ou considerações finais\n",
        "\n",
        "Considerando o tema de projeto de conclusão de curso escolhido, acredita-se que após o desenvolvimento do projeto, irá possibiliar o aprofundamento sobre o contexto socioeconômico e ambiental em que se inserem as comunidades tradicionais estudadas, eventual cosmovisão relacionada a componentes do saneamento, como o uso de recursos hídricos; podendo fomentar e subsídiar ao aprimoramento de políticas públicas de forma geral (considerando que as políticas públicas se relacionam entre si); e especialmente aquelas com potencial de contribuir para a qualidade de vida e melhoria das condições sanitárias das comunidades tradicionais; e por fim promover a equidade para as comunidades tradicionais, observando seus modos de vida e particularidades, obtendo informações de saúde e saneamento de forma a proporcionar análises com viés holístico sobre essas populações.\n"
      ],
      "metadata": {
        "id": "8WufataXRfQZ"
      }
    },
    {
      "cell_type": "markdown",
      "source": [
        "# Referências bibliográficas\n",
        "\n",
        "https://www.bing.com/ck/a?!&&p=4564b691f61ca172f4368730d4d6bc8250bb72a7c1087b02b65a81c011c2b790JmltdHM9MTczMjIzMzYwMA&ptn=3&ver=2&hsh=4&fclid=33495b88-1be4-6a4e-0db4-48ab1a2a6b19&psq=ibge&u=a1aHR0cDovL3d3dy5pYmdlLmdvdi5ici8&ntb=1\n",
        "\n",
        "https://www.bing.com/ck/a?!&&p=670cd4be3b3824c532f2e2f7b776aed2c45c5c184a1337196279ee3314aedeacJmltdHM9MTczMjIzMzYwMA&ptn=3&ver=2&hsh=4&fclid=33495b88-1be4-6a4e-0db4-48ab1a2a6b19&psq=sisagua&u=a1aHR0cDovL3Npc2FndWEuc2F1ZGUuZ292LmJyL3Npc2FndWEvbG9naW4uanNm&ntb=1\n",
        "\n",
        "https://www.bing.com/ck/a?!&&p=dfaa721e44da3eb6f6cf07fcfb639756f399755286812f11dae2b8e5adcb0070JmltdHM9MTczMjIzMzYwMA&ptn=3&ver=2&hsh=4&fclid=33495b88-1be4-6a4e-0db4-48ab1a2a6b19&psq=sinan&u=a1aHR0cDovL3BvcnRhbHNpbmFuLnNhdWRlLmdvdi5ici8&ntb=1\n",
        "\n",
        "\n",
        "https://www.bing.com/ck/a?!&&p=0a7048f5f3a37919c51fd2283b91f1b86d4f29ffade77f1555e409351591473dJmltdHM9MTczMjIzMzYwMA&ptn=3&ver=2&hsh=4&fclid=33495b88-1be4-6a4e-0db4-48ab1a2a6b19&psq=sinis&u=a1aHR0cHM6Ly93d3cuZ292LmJyL2NpZGFkZXMvcHQtYnIvYWNlc3NvLWEtaW5mb3JtYWNhby9hY29lcy1lLXByb2dyYW1hcy9zYW5lYW1lbnRvL3NuaXM&ntb=1\n",
        "\n",
        "https://www.bing.com/ck/a?!&&p=9d2cffa79148bc8172203a002e5b7163fca658ad5b89ccf949aa65d2046d828aJmltdHM9MTczMjIzMzYwMA&ptn=3&ver=2&hsh=4&fclid=33495b88-1be4-6a4e-0db4-48ab1a2a6b19&psq=portal+da+saude+em+sao+joao+das+miss%c3%b5es&u=a1aHR0cHM6Ly9zYW9qb2FvZGFzbWlzc29lcy5tZy5nb3YuYnIvZXN0cnV0dXJhL3NlY3JldGFyaWEtbXVuaWNpcGFsLWRlLXNhdWRlLTIv&ntb=1"
      ],
      "metadata": {
        "id": "IL4jLXZeS3UE"
      }
    }
  ]
}