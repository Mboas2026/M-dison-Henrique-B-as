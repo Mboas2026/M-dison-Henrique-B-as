{
  "nbformat": 4,
  "nbformat_minor": 0,
  "metadata": {
    "colab": {
      "provenance": [],
      "authorship_tag": "ABX9TyPwss6jdW0i6LnLczDhf+da",
      "include_colab_link": true
    },
    "kernelspec": {
      "name": "python3",
      "display_name": "Python 3"
    },
    "language_info": {
      "name": "python"
    }
  },
  "cells": [
    {
      "cell_type": "markdown",
      "metadata": {
        "id": "view-in-github",
        "colab_type": "text"
      },
      "source": [
        "<a href=\"https://colab.research.google.com/github/Mboas2026/M-dison-Henrique-B-as/blob/main/C%C3%B3pia_de_MHB_AT_AV1.ipynb\" target=\"_parent\"><img src=\"https://colab.research.google.com/assets/colab-badge.svg\" alt=\"Open In Colab\"/></a>"
      ]
    },
    {
      "cell_type": "markdown",
      "source": [
        "Exercício 1: Condicionais simples com if"
      ],
      "metadata": {
        "id": "EnVqppvolQoz"
      }
    },
    {
      "cell_type": "code",
      "execution_count": null,
      "metadata": {
        "id": "s0J4EDrvFVZd",
        "colab": {
          "base_uri": "https://localhost:8080/"
        },
        "outputId": "21f6c143-aa50-4502-ec07-7b9ed2011c65"
      },
      "outputs": [
        {
          "output_type": "stream",
          "name": "stdout",
          "text": [
            "Digite a declividade do relevo (em porcentagem): 6\n",
            "Relevo não é plano\n"
          ]
        }
      ],
      "source": [
        "declividade = float(input(\"Digite a declividade do relevo (em porcentagem): \"))\n",
        "\n",
        "if 0 <= declividade <= 3:\n",
        "    print (\"Relevo plano\")\n",
        "else:\n",
        "    print (\"Relevo não é plano\")"
      ]
    },
    {
      "cell_type": "markdown",
      "source": [
        "Exercício 2: Estruturas Condicionais - Uso do if,elif e else com múltiplas condições."
      ],
      "metadata": {
        "id": "btnrp5Uvk4zq"
      }
    },
    {
      "cell_type": "code",
      "source": [
        "declividade = float(input(\"Digite a declividade do terreno (em porcentagem): \"))\n",
        "if 0 <= declividade <= 3:\n",
        "    print(\"Relevo plano\")\n",
        "elif 3 < declividade <= 8:\n",
        "    print(\"Suave ondulado\")\n",
        "elif 8 < declividade <= 20:\n",
        "    print(\"Ondulado\")\n",
        "elif 20 < declividade <= 45:\n",
        "    print(\"Forte ondulado\")\n",
        "elif 45 < declividade <= 75:\n",
        "    print(\"Montanhoso\")\n",
        "elif declividade > 75:\n",
        "    print(\"Escarpado\")\n",
        "else:\n",
        "    print(\"Declividade inválida\")\n"
      ],
      "metadata": {
        "colab": {
          "base_uri": "https://localhost:8080/"
        },
        "id": "7XOTXW32UB7p",
        "outputId": "0742c3ff-618d-4607-c84a-19b01ebc753c"
      },
      "execution_count": null,
      "outputs": [
        {
          "output_type": "stream",
          "name": "stdout",
          "text": [
            "Digite a declividade do terreno (em porcentagem): 100\n",
            "Escarpado\n"
          ]
        }
      ]
    },
    {
      "cell_type": "code",
      "source": [
        "area_alagada = True  # Pode ser True ou False, conforme a situação\n",
        "risco_deslizamento = False  # Pode ser True ou False, conforme a situação\n",
        "if area_alagada:\n",
        "    print(\"Área sujeita a alagamentos. Construção proibida.\")\n",
        "elif risco_deslizamento:\n",
        "    print(\"Terreno com risco de deslizamento. Construção não recomendada.\")\n",
        "else:\n",
        "    print(\"Terreno seguro para construção.\")\n"
      ],
      "metadata": {
        "id": "feGfSiWOUGiQ",
        "colab": {
          "base_uri": "https://localhost:8080/"
        },
        "outputId": "70a975c5-2943-405e-a04f-561a4163c236"
      },
      "execution_count": null,
      "outputs": [
        {
          "output_type": "stream",
          "name": "stdout",
          "text": [
            "Área sujeita a alagamentos. Construção proibida.\n"
          ]
        }
      ]
    },
    {
      "cell_type": "code",
      "source": [
        "declividade = float(input(\"Digite a declividade do terreno (em porcentagem): \"))\n",
        "zona_protegida = True  # Esta variável deve ser definida como True ou False conforme a situação\n",
        "\n",
        "if declividade > 20:\n",
        "    if zona_protegida:\n",
        "        print(\"Construção proibida\")\n",
        "    else:\n",
        "        print(\"Construção permitida com restrições\")\n",
        "else:\n",
        "    print(\"Construção permitida com supervisão\")\n"
      ],
      "metadata": {
        "id": "ksx4DgWbULXh",
        "colab": {
          "base_uri": "https://localhost:8080/"
        },
        "outputId": "d16a4b72-cc25-4d29-f416-50007532128e"
      },
      "execution_count": null,
      "outputs": [
        {
          "output_type": "stream",
          "name": "stdout",
          "text": [
            "Digite a declividade do terreno (em porcentagem): 100\n",
            "Construção proibida\n"
          ]
        }
      ]
    },
    {
      "cell_type": "code",
      "source": [
        "altitudes = [300, 450, 150, 600, 700]\n",
        "for altitude in altitudes:\n",
        "    print(f\"Altitude: {altitude} metros\")\n"
      ],
      "metadata": {
        "id": "_ums39nlUQ6I",
        "colab": {
          "base_uri": "https://localhost:8080/"
        },
        "outputId": "37305857-7e29-4711-dcdd-8fa14d41c7af"
      },
      "execution_count": null,
      "outputs": [
        {
          "output_type": "stream",
          "name": "stdout",
          "text": [
            "Altitude: 300 metros\n",
            "Altitude: 450 metros\n",
            "Altitude: 150 metros\n",
            "Altitude: 600 metros\n",
            "Altitude: 700 metros\n"
          ]
        }
      ]
    },
    {
      "cell_type": "code",
      "source": [
        "range_x = range(500000, 505000, 1000)\n",
        "range_y = range(6200000, 6205000, 500)\n",
        "for x, y in zip(range_x, range_y):\n",
        "    print(f\"Coordenadas UTM: ({x}, {y})\")\n"
      ],
      "metadata": {
        "id": "aIfdapRIUVPB",
        "colab": {
          "base_uri": "https://localhost:8080/"
        },
        "outputId": "89f325e0-ffdd-4511-8461-f5c862d413e6"
      },
      "execution_count": null,
      "outputs": [
        {
          "output_type": "stream",
          "name": "stdout",
          "text": [
            "Coordenadas UTM: (500000, 6200000)\n",
            "Coordenadas UTM: (501000, 6200500)\n",
            "Coordenadas UTM: (502000, 6201000)\n",
            "Coordenadas UTM: (503000, 6201500)\n",
            "Coordenadas UTM: (504000, 6202000)\n"
          ]
        }
      ]
    },
    {
      "cell_type": "code",
      "source": [
        "areas = [1000 + 100 * i for i in range(10)]\n",
        "print(areas)"
      ],
      "metadata": {
        "id": "aCMpe-cKUZfx",
        "colab": {
          "base_uri": "https://localhost:8080/"
        },
        "outputId": "16f92f88-3075-48c6-e5fa-44b198d20cb2"
      },
      "execution_count": null,
      "outputs": [
        {
          "output_type": "stream",
          "name": "stdout",
          "text": [
            "[1000, 1100, 1200, 1300, 1400, 1500, 1600, 1700, 1800, 1900]\n"
          ]
        }
      ]
    },
    {
      "cell_type": "code",
      "source": [
        "altitude_inicial = 100\n",
        "incremento = 60\n",
        "while altitude_inicial < 500:\n",
        "    print(f\"Altitude atual: {altitude_inicial} metros\")\n",
        "    altitude_inicial += incremento\n",
        "print(f\"Altitude final: {altitude_inicial} metros\")\n"
      ],
      "metadata": {
        "id": "5isX_wj2Udzi",
        "colab": {
          "base_uri": "https://localhost:8080/"
        },
        "outputId": "49d326ab-bf3d-43ab-a09c-340d95d067c9"
      },
      "execution_count": null,
      "outputs": [
        {
          "output_type": "stream",
          "name": "stdout",
          "text": [
            "Altitude atual: 100 metros\n",
            "Altitude atual: 160 metros\n",
            "Altitude atual: 220 metros\n",
            "Altitude atual: 280 metros\n",
            "Altitude atual: 340 metros\n",
            "Altitude atual: 400 metros\n",
            "Altitude atual: 460 metros\n",
            "Altitude final: 520 metros\n"
          ]
        }
      ]
    },
    {
      "cell_type": "code",
      "source": [
        "While True: # Changed true to True\n",
        "\n",
        "declividade = float(input(\"Digite o valor da declividade do terreno (em porcentagem): \"))\n",
        "\n",
        "if declividade > 50:\n",
        "        print(\"Declividade muito alta. Entrada interrompida.\")\n",
        "        break\n"
      ],
      "metadata": {
        "id": "mL45BIvtUhzx",
        "colab": {
          "base_uri": "https://localhost:8080/",
          "height": 106
        },
        "outputId": "6ee6464d-a964-4972-d965-0175906457f4"
      },
      "execution_count": null,
      "outputs": [
        {
          "output_type": "error",
          "ename": "SyntaxError",
          "evalue": "invalid syntax (<ipython-input-110-99d220e4173d>, line 1)",
          "traceback": [
            "\u001b[0;36m  File \u001b[0;32m\"<ipython-input-110-99d220e4173d>\"\u001b[0;36m, line \u001b[0;32m1\u001b[0m\n\u001b[0;31m    While True: # Changed true to True\u001b[0m\n\u001b[0m          ^\u001b[0m\n\u001b[0;31mSyntaxError\u001b[0m\u001b[0;31m:\u001b[0m invalid syntax\n"
          ]
        }
      ]
    },
    {
      "cell_type": "code",
      "source": [
        "def calcula_area(comprimento, largura):\n",
        "    # Retorna a área do terreno calculada pela fórmula: comprimento * largura\n",
        "    return comprimento * largura\n",
        "\n",
        "comprimento = 100\n",
        "largura = 50\n",
        "area = calcula_area(comprimento, largura)\n",
        "\n",
        "\n",
        "print(f\"A área do terreno é de {area} metros quadrados\")\n"
      ],
      "metadata": {
        "id": "SpdLZGfJUnKp",
        "colab": {
          "base_uri": "https://localhost:8080/"
        },
        "outputId": "caa4a4e0-3f90-473d-a006-273eda8a2393"
      },
      "execution_count": null,
      "outputs": [
        {
          "output_type": "stream",
          "name": "stdout",
          "text": [
            "A área do terreno é de 5000 metros quadrados\n"
          ]
        }
      ]
    },
    {
      "cell_type": "code",
      "source": [
        "def densidade_demografica(populacao, area):\n",
        "    # Retorna a densidade demográfica, calculada pela fórmula: população / área\n",
        "    return populacao / area\n",
        "\n",
        "# Fornecendo a população e a área como parâmetros\n",
        "populacao = 8563\n",
        "area = 415  # em km²\n",
        "densidade = densidade_demografica(populacao, area)\n",
        "\n",
        "print(f\"A densidade demográfica é de {densidade} habitantes por km²\")\n"
      ],
      "metadata": {
        "id": "16X9E_ZRUrsR",
        "colab": {
          "base_uri": "https://localhost:8080/"
        },
        "outputId": "b6e9fd50-5a68-4a0e-e791-17850374c701"
      },
      "execution_count": null,
      "outputs": [
        {
          "output_type": "stream",
          "name": "stdout",
          "text": [
            "A densidade demográfica é de 20.633734939759037 habitantes por km²\n"
          ]
        }
      ]
    },
    {
      "cell_type": "code",
      "source": [
        "import math\n",
        "\n",
        "area = 2500\n",
        "raiz_quadrada_area = math.sqrt(area)\n",
        "\n",
        "print(f\"A raiz quadrada da área é: {raiz_quadrada_area} km\")\n"
      ],
      "metadata": {
        "id": "tZFj5ApRUvsb",
        "colab": {
          "base_uri": "https://localhost:8080/"
        },
        "outputId": "d1418ccc-d71c-4f87-f998-7e12eb72ad65"
      },
      "execution_count": null,
      "outputs": [
        {
          "output_type": "stream",
          "name": "stdout",
          "text": [
            "A raiz quadrada da área é: 50.0 km\n"
          ]
        }
      ]
    },
    {
      "cell_type": "code",
      "source": [
        "dobro_da_area = lambda area: area * 2\n",
        "\n",
        "area = 1500\n",
        "resultado = dobro_da_area(area)\n",
        "\n",
        "print(f\"O dobro da área de {area} m² é {resultado} m²\")\n"
      ],
      "metadata": {
        "id": "Yj4x-hAkU06_",
        "colab": {
          "base_uri": "https://localhost:8080/"
        },
        "outputId": "4da61274-4445-4649-9728-39010a14b82e"
      },
      "execution_count": null,
      "outputs": [
        {
          "output_type": "stream",
          "name": "stdout",
          "text": [
            "O dobro da área de 1500 m² é 3000 m²\n"
          ]
        }
      ]
    },
    {
      "cell_type": "code",
      "source": [
        "try:\n",
        "    numero = int(input(\"Digite um número: \"))\n",
        "    print(f\"Você digitou o número {numero}.\")\n",
        "except ValueError:\n",
        "    print(\"Erro: Por favor, insira um número válido.\")\n"
      ],
      "metadata": {
        "id": "Ea9BcSoTU50v",
        "colab": {
          "base_uri": "https://localhost:8080/"
        },
        "outputId": "1e421bb4-4dda-4653-8d30-a1711f5e5a9e"
      },
      "execution_count": null,
      "outputs": [
        {
          "output_type": "stream",
          "name": "stdout",
          "text": [
            "Digite um número: 5\n",
            "Você digitou o número 5.\n"
          ]
        }
      ]
    },
    {
      "cell_type": "code",
      "source": [
        "import datetime\n",
        "\n",
        "data_hora_atual = datetime.datetime.now()\n",
        "\n",
        "data_hora_formatada = data_hora_atual.strftime(\"%d/%m/%Y %H:%M\")\n",
        "print(f\"Data e hora atuais: {data_hora_formatada}\")\n"
      ],
      "metadata": {
        "id": "7xVn5RjbU-Kn",
        "colab": {
          "base_uri": "https://localhost:8080/"
        },
        "outputId": "e9b7473d-41e5-42a7-bdd8-e97524900845"
      },
      "execution_count": null,
      "outputs": [
        {
          "output_type": "stream",
          "name": "stdout",
          "text": [
            "Data e hora atuais: 06/11/2024 14:27\n"
          ]
        }
      ]
    }
  ]
}