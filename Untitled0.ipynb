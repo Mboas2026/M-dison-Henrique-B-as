{
  "nbformat": 4,
  "nbformat_minor": 0,
  "metadata": {
    "colab": {
      "provenance": [],
      "history_visible": true,
      "authorship_tag": "ABX9TyPYpkkQDHJPsD3WSLJdQqy3",
      "include_colab_link": true
    },
    "kernelspec": {
      "name": "python3",
      "display_name": "Python 3"
    },
    "language_info": {
      "name": "python"
    }
  },
  "cells": [
    {
      "cell_type": "markdown",
      "metadata": {
        "id": "view-in-github",
        "colab_type": "text"
      },
      "source": [
        "<a href=\"https://colab.research.google.com/github/Mboas2026/M-dison-Henrique-B-as/blob/main/Untitled0.ipynb\" target=\"_parent\"><img src=\"https://colab.research.google.com/assets/colab-badge.svg\" alt=\"Open In Colab\"/></a>"
      ]
    },
    {
      "cell_type": "code",
      "source": [
        "cidade = 'São João das Missões'"
      ],
      "metadata": {
        "id": "KbMopXHORDsm"
      },
      "execution_count": 79,
      "outputs": []
    },
    {
      "cell_type": "code",
      "source": [
        "print (\"o nome da cidade é\" , cidade + \".\")"
      ],
      "metadata": {
        "colab": {
          "base_uri": "https://localhost:8080/"
        },
        "id": "JfCfACp28zAD",
        "outputId": "51ac4355-dbc8-4393-bf86-a5b91bab4397"
      },
      "execution_count": 67,
      "outputs": [
        {
          "output_type": "stream",
          "name": "stdout",
          "text": [
            "o nome da cidade é São João das Missões.\n"
          ]
        }
      ]
    },
    {
      "cell_type": "code",
      "source": [
        "área = 678274\n",
        "print (\" a área da cidade é de \") , área , \"km²\" , \" São João das Missões\""
      ],
      "metadata": {
        "colab": {
          "base_uri": "https://localhost:8080/"
        },
        "id": "U3m5tkfZ9EkL",
        "outputId": "b82aaa70-0441-4236-d487-bc5f7ad20c96"
      },
      "execution_count": 95,
      "outputs": [
        {
          "output_type": "stream",
          "name": "stdout",
          "text": [
            " a área da cidade é de \n"
          ]
        },
        {
          "output_type": "execute_result",
          "data": {
            "text/plain": [
              "(None, 678274, 'km²', ' São João das Missões')"
            ]
          },
          "metadata": {},
          "execution_count": 95
        }
      ]
    },
    {
      "cell_type": "code",
      "source": [
        "habitantes =  13024\n",
        "print(\"a população é de\"), habitantes, \"habitantes\", \"São João das Missões\""
      ],
      "metadata": {
        "colab": {
          "base_uri": "https://localhost:8080/"
        },
        "id": "x2WItVx0M0cd",
        "outputId": "223fe13b-0042-4dc5-f982-58e26f154547"
      },
      "execution_count": 69,
      "outputs": [
        {
          "output_type": "stream",
          "name": "stdout",
          "text": [
            "a população é de\n"
          ]
        },
        {
          "output_type": "execute_result",
          "data": {
            "text/plain": [
              "(None, 13024, 'habitantes', 'São João das Missões')"
            ]
          },
          "metadata": {},
          "execution_count": 69
        }
      ]
    },
    {
      "cell_type": "code",
      "source": [
        "altitude = 480.2463\n",
        "print(\"a altitude é de\"), altitude, \"altitude\", \"São João das Missões\""
      ],
      "metadata": {
        "colab": {
          "base_uri": "https://localhost:8080/"
        },
        "outputId": "314bf993-32df-4abe-ecf7-1a0ba0f76b6e",
        "id": "KB0mwIQtSAwH"
      },
      "execution_count": 85,
      "outputs": [
        {
          "output_type": "stream",
          "name": "stdout",
          "text": [
            "a altitude é de\n"
          ]
        },
        {
          "output_type": "execute_result",
          "data": {
            "text/plain": [
              "(None, 480.2463, 'altitude', 'São João das Missões')"
            ]
          },
          "metadata": {},
          "execution_count": 85
        }
      ]
    },
    {
      "cell_type": "code",
      "source": [
        "print(\"a altitude é de\"), altitude, \"altitude\", \"São João das Missões\"\n"
      ],
      "metadata": {
        "colab": {
          "base_uri": "https://localhost:8080/"
        },
        "id": "FYpzmFauV02r",
        "outputId": "a5ffe9ab-7259-4f0c-d345-b066457acb89"
      },
      "execution_count": 101,
      "outputs": [
        {
          "output_type": "stream",
          "name": "stdout",
          "text": [
            "a altitude é de\n"
          ]
        },
        {
          "output_type": "execute_result",
          "data": {
            "text/plain": [
              "(None, 480.2463, 'altitude', 'São João das Missões')"
            ]
          },
          "metadata": {},
          "execution_count": 101
        }
      ]
    },
    {
      "cell_type": "code",
      "source": [
        "população_urbana = 10000\n",
        "print (\"a população urbana é de\"), população_urbana, \"habitantes\", \"São João das Missões\""
      ],
      "metadata": {
        "colab": {
          "base_uri": "https://localhost:8080/"
        },
        "id": "ao5MYh8GTfGL",
        "outputId": "24c4c11b-b2b3-46ba-9e91-e3edd01d9cce"
      },
      "execution_count": 92,
      "outputs": [
        {
          "output_type": "stream",
          "name": "stdout",
          "text": [
            "a população urbana é de\n"
          ]
        },
        {
          "output_type": "execute_result",
          "data": {
            "text/plain": [
              "(None, 10000, 'habitantes', 'São João das Missões')"
            ]
          },
          "metadata": {},
          "execution_count": 92
        }
      ]
    },
    {
      "cell_type": "code",
      "source": [
        "população_rural = 3024\n",
        "print (\"a população rural é de\"), população_rural, \"habitantes\", \"São João das Missões\""
      ],
      "metadata": {
        "colab": {
          "base_uri": "https://localhost:8080/"
        },
        "id": "FvSknz6cYxTJ",
        "outputId": "9b65c56d-a5c2-417b-db09-de6f8ba54343"
      },
      "execution_count": 102,
      "outputs": [
        {
          "output_type": "stream",
          "name": "stdout",
          "text": [
            "a população rural é de\n"
          ]
        },
        {
          "output_type": "execute_result",
          "data": {
            "text/plain": [
              "(None, 3024, 'habitantes', 'São João das Missões')"
            ]
          },
          "metadata": {},
          "execution_count": 102
        }
      ]
    },
    {
      "cell_type": "code",
      "source": [
        "população_urbana, população_rural = 10000, 3024\n",
        "print (\"população total\") , população_urbana + população_rural, \"São João das Missões\""
      ],
      "metadata": {
        "colab": {
          "base_uri": "https://localhost:8080/"
        },
        "id": "P078F8yCZPiz",
        "outputId": "951ad860-c16d-4a74-d5c6-01717ddb9973"
      },
      "execution_count": 108,
      "outputs": [
        {
          "output_type": "stream",
          "name": "stdout",
          "text": [
            "população total\n"
          ]
        },
        {
          "output_type": "execute_result",
          "data": {
            "text/plain": [
              "(None, 13024, 'São João das Missões')"
            ]
          },
          "metadata": {},
          "execution_count": 108
        }
      ]
    },
    {
      "cell_type": "code",
      "source": [
        "print (\"população total\") , população_urbana + população_rural,\"São João das Missões\""
      ],
      "metadata": {
        "colab": {
          "base_uri": "https://localhost:8080/"
        },
        "id": "AjCrHPI-ayUg",
        "outputId": "927f264e-c9f7-4572-e799-9e0ef3041306"
      },
      "execution_count": 109,
      "outputs": [
        {
          "output_type": "stream",
          "name": "stdout",
          "text": [
            "população total\n"
          ]
        },
        {
          "output_type": "execute_result",
          "data": {
            "text/plain": [
              "(None, 13024, 'São João das Missões')"
            ]
          },
          "metadata": {},
          "execution_count": 109
        }
      ]
    }
  ]
}