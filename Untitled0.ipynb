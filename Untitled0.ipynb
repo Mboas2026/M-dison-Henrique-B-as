{
  "nbformat": 4,
  "nbformat_minor": 0,
  "metadata": {
    "colab": {
      "provenance": [],
      "toc_visible": true,
      "authorship_tag": "ABX9TyMX1ObEpciuZwV35OOh/lSh",
      "include_colab_link": true
    },
    "kernelspec": {
      "name": "python3",
      "display_name": "Python 3"
    },
    "language_info": {
      "name": "python"
    }
  },
  "cells": [
    {
      "cell_type": "markdown",
      "metadata": {
        "id": "view-in-github",
        "colab_type": "text"
      },
      "source": [
        "<a href=\"https://colab.research.google.com/github/Mboas2026/M-dison-Henrique-B-as/blob/main/Untitled0.ipynb\" target=\"_parent\"><img src=\"https://colab.research.google.com/assets/colab-badge.svg\" alt=\"Open In Colab\"/></a>"
      ]
    },
    {
      "cell_type": "markdown",
      "source": [
        "cidade\n",
        "\n",
        "São João das Missões - MG\n"
      ],
      "metadata": {
        "id": "rEf7TvhO0w_s"
      }
    },
    {
      "cell_type": "code",
      "source": [
        "print(\"cidade\")\n"
      ],
      "metadata": {
        "colab": {
          "base_uri": "https://localhost:8080/"
        },
        "id": "VQwVMN843BF0",
        "outputId": "c6d4ec64-d343-4405-bb4c-4f400e073d4f"
      },
      "execution_count": null,
      "outputs": [
        {
          "output_type": "stream",
          "name": "stdout",
          "text": [
            "cidade\n"
          ]
        }
      ]
    },
    {
      "cell_type": "code",
      "source": [
        "print(\"São João das Missões - MG\")\n"
      ],
      "metadata": {
        "colab": {
          "base_uri": "https://localhost:8080/"
        },
        "id": "FzY1ttHf3KcJ",
        "outputId": "79b2825c-69f6-4c2c-d1b9-0e39a30a5dd8"
      },
      "execution_count": null,
      "outputs": [
        {
          "output_type": "stream",
          "name": "stdout",
          "text": [
            "São João das Missões - MG\n"
          ]
        }
      ]
    },
    {
      "cell_type": "markdown",
      "source": [
        "area"
      ],
      "metadata": {
        "id": "ZWiBxeDg3mIq"
      }
    },
    {
      "cell_type": "code",
      "source": [
        "input(\"area\")"
      ],
      "metadata": {
        "colab": {
          "base_uri": "https://localhost:8080/",
          "height": 53
        },
        "id": "hTAJf-Cw3tEB",
        "outputId": "bd0d7566-c2c4-4165-8a03-82024996052a"
      },
      "execution_count": null,
      "outputs": [
        {
          "name": "stdout",
          "output_type": "stream",
          "text": [
            "areakm2\n"
          ]
        },
        {
          "output_type": "execute_result",
          "data": {
            "text/plain": [
              "'km2'"
            ],
            "application/vnd.google.colaboratory.intrinsic+json": {
              "type": "string"
            }
          },
          "metadata": {},
          "execution_count": 4
        }
      ]
    },
    {
      "cell_type": "code",
      "source": [
        "print(\"valor\")"
      ],
      "metadata": {
        "colab": {
          "base_uri": "https://localhost:8080/"
        },
        "id": "t9rntH9q4BSK",
        "outputId": "5d581d28-a028-450e-cf41-5f936f0e8464"
      },
      "execution_count": null,
      "outputs": [
        {
          "output_type": "stream",
          "name": "stdout",
          "text": [
            "valor\n"
          ]
        }
      ]
    }
  ]
}