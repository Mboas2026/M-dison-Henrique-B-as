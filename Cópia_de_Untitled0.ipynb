{
  "nbformat": 4,
  "nbformat_minor": 0,
  "metadata": {
    "colab": {
      "provenance": [],
      "authorship_tag": "ABX9TyNIBorGBNd2Ag1JsTJKnXjA",
      "include_colab_link": true
    },
    "kernelspec": {
      "name": "python3",
      "display_name": "Python 3"
    },
    "language_info": {
      "name": "python"
    }
  },
  "cells": [
    {
      "cell_type": "markdown",
      "metadata": {
        "id": "view-in-github",
        "colab_type": "text"
      },
      "source": [
        "<a href=\"https://colab.research.google.com/github/Mboas2026/M-dison-Henrique-B-as/blob/main/C%C3%B3pia_de_Untitled0.ipynb\" target=\"_parent\"><img src=\"https://colab.research.google.com/assets/colab-badge.svg\" alt=\"Open In Colab\"/></a>"
      ]
    },
    {
      "cell_type": "code",
      "source": [
        "cidade = 'São João das Missões'"
      ],
      "metadata": {
        "id": "KbMopXHORDsm"
      },
      "execution_count": null,
      "outputs": []
    },
    {
      "cell_type": "code",
      "source": [
        "print (\"o nome da cidade é\" , cidade + \".\")"
      ],
      "metadata": {
        "colab": {
          "base_uri": "https://localhost:8080/"
        },
        "id": "JfCfACp28zAD",
        "outputId": "51ac4355-dbc8-4393-bf86-a5b91bab4397"
      },
      "execution_count": null,
      "outputs": [
        {
          "output_type": "stream",
          "name": "stdout",
          "text": [
            "o nome da cidade é São João das Missões.\n"
          ]
        }
      ]
    },
    {
      "cell_type": "code",
      "source": [
        "área = 678274\n",
        "print (\" a área da cidade é de \") , área , \"km²\" , \" São João das Missões\""
      ],
      "metadata": {
        "colab": {
          "base_uri": "https://localhost:8080/"
        },
        "id": "U3m5tkfZ9EkL",
        "outputId": "b82aaa70-0441-4236-d487-bc5f7ad20c96"
      },
      "execution_count": null,
      "outputs": [
        {
          "output_type": "stream",
          "name": "stdout",
          "text": [
            " a área da cidade é de \n"
          ]
        },
        {
          "output_type": "execute_result",
          "data": {
            "text/plain": [
              "(None, 678274, 'km²', ' São João das Missões')"
            ]
          },
          "metadata": {},
          "execution_count": 95
        }
      ]
    },
    {
      "cell_type": "code",
      "source": [
        "habitantes =  13024\n",
        "print(\"a população é de\"), habitantes, \"habitantes\", \"São João das Missões\""
      ],
      "metadata": {
        "colab": {
          "base_uri": "https://localhost:8080/"
        },
        "id": "x2WItVx0M0cd",
        "outputId": "223fe13b-0042-4dc5-f982-58e26f154547"
      },
      "execution_count": null,
      "outputs": [
        {
          "output_type": "stream",
          "name": "stdout",
          "text": [
            "a população é de\n"
          ]
        },
        {
          "output_type": "execute_result",
          "data": {
            "text/plain": [
              "(None, 13024, 'habitantes', 'São João das Missões')"
            ]
          },
          "metadata": {},
          "execution_count": 69
        }
      ]
    },
    {
      "cell_type": "code",
      "source": [
        "altitude = 480.2463\n",
        "print(\"a altitude é de\"), altitude, \"altitude\", \"São João das Missões\""
      ],
      "metadata": {
        "colab": {
          "base_uri": "https://localhost:8080/"
        },
        "outputId": "314bf993-32df-4abe-ecf7-1a0ba0f76b6e",
        "id": "KB0mwIQtSAwH"
      },
      "execution_count": null,
      "outputs": [
        {
          "output_type": "stream",
          "name": "stdout",
          "text": [
            "a altitude é de\n"
          ]
        },
        {
          "output_type": "execute_result",
          "data": {
            "text/plain": [
              "(None, 480.2463, 'altitude', 'São João das Missões')"
            ]
          },
          "metadata": {},
          "execution_count": 85
        }
      ]
    },
    {
      "cell_type": "code",
      "source": [
        "print(\"a altitude é de\"), altitude, \"altitude\", \"São João das Missões\"\n"
      ],
      "metadata": {
        "colab": {
          "base_uri": "https://localhost:8080/"
        },
        "id": "FYpzmFauV02r",
        "outputId": "a5ffe9ab-7259-4f0c-d345-b066457acb89"
      },
      "execution_count": null,
      "outputs": [
        {
          "output_type": "stream",
          "name": "stdout",
          "text": [
            "a altitude é de\n"
          ]
        },
        {
          "output_type": "execute_result",
          "data": {
            "text/plain": [
              "(None, 480.2463, 'altitude', 'São João das Missões')"
            ]
          },
          "metadata": {},
          "execution_count": 101
        }
      ]
    },
    {
      "cell_type": "code",
      "source": [
        "população_urbana = 10000\n",
        "print (\"a população urbana é de\"), população_urbana, \"habitantes\", \"São João das Missões\""
      ],
      "metadata": {
        "colab": {
          "base_uri": "https://localhost:8080/"
        },
        "id": "ao5MYh8GTfGL",
        "outputId": "24c4c11b-b2b3-46ba-9e91-e3edd01d9cce"
      },
      "execution_count": null,
      "outputs": [
        {
          "output_type": "stream",
          "name": "stdout",
          "text": [
            "a população urbana é de\n"
          ]
        },
        {
          "output_type": "execute_result",
          "data": {
            "text/plain": [
              "(None, 10000, 'habitantes', 'São João das Missões')"
            ]
          },
          "metadata": {},
          "execution_count": 92
        }
      ]
    },
    {
      "cell_type": "code",
      "source": [
        "população_rural = 3024\n",
        "print (\"a população rural é de\"), população_rural, \"habitantes\", \"São João das Missões\""
      ],
      "metadata": {
        "colab": {
          "base_uri": "https://localhost:8080/"
        },
        "id": "FvSknz6cYxTJ",
        "outputId": "9b65c56d-a5c2-417b-db09-de6f8ba54343"
      },
      "execution_count": null,
      "outputs": [
        {
          "output_type": "stream",
          "name": "stdout",
          "text": [
            "a população rural é de\n"
          ]
        },
        {
          "output_type": "execute_result",
          "data": {
            "text/plain": [
              "(None, 3024, 'habitantes', 'São João das Missões')"
            ]
          },
          "metadata": {},
          "execution_count": 102
        }
      ]
    },
    {
      "cell_type": "code",
      "source": [
        "população_urbana, população_rural = 10000, 3024\n",
        "print (\"população total\") , população_urbana + população_rural, \"São João das Missões\""
      ],
      "metadata": {
        "colab": {
          "base_uri": "https://localhost:8080/"
        },
        "id": "P078F8yCZPiz",
        "outputId": "951ad860-c16d-4a74-d5c6-01717ddb9973"
      },
      "execution_count": null,
      "outputs": [
        {
          "output_type": "stream",
          "name": "stdout",
          "text": [
            "população total\n"
          ]
        },
        {
          "output_type": "execute_result",
          "data": {
            "text/plain": [
              "(None, 13024, 'São João das Missões')"
            ]
          },
          "metadata": {},
          "execution_count": 108
        }
      ]
    },
    {
      "cell_type": "code",
      "source": [
        "print (\"população total\") , população_urbana + população_rural,\"São João das Missões\""
      ],
      "metadata": {
        "colab": {
          "base_uri": "https://localhost:8080/"
        },
        "id": "AjCrHPI-ayUg",
        "outputId": "927f264e-c9f7-4572-e799-9e0ef3041306"
      },
      "execution_count": null,
      "outputs": [
        {
          "output_type": "stream",
          "name": "stdout",
          "text": [
            "população total\n"
          ]
        },
        {
          "output_type": "execute_result",
          "data": {
            "text/plain": [
              "(None, 13024, 'São João das Missões')"
            ]
          },
          "metadata": {},
          "execution_count": 109
        }
      ]
    },
    {
      "cell_type": "code",
      "source": [
        "área1 = 250\n",
        "print (\" a área da cidade é de\" ,  área1, \"km²,\"  , \"São joão das Missões\")\n"
      ],
      "metadata": {
        "colab": {
          "base_uri": "https://localhost:8080/"
        },
        "id": "lETCPcZ3Eyz9",
        "outputId": "638a04b7-22c3-43c8-9120-a2aec8c77444"
      },
      "execution_count": null,
      "outputs": [
        {
          "output_type": "stream",
          "name": "stdout",
          "text": [
            " a área da cidade é de 250 km², São joão das Missões\n"
          ]
        }
      ]
    },
    {
      "cell_type": "code",
      "source": [
        "área2 = 150\n",
        "print (\" a área da cidade é de\" ,  área2, \"km²,\"  , \"São joão das Missões\")\n"
      ],
      "metadata": {
        "colab": {
          "base_uri": "https://localhost:8080/"
        },
        "outputId": "8280e550-0399-41d3-b26e-f2c3e3f2a9eb",
        "id": "DRb5zHGfRRBz"
      },
      "execution_count": null,
      "outputs": [
        {
          "output_type": "stream",
          "name": "stdout",
          "text": [
            " a área da cidade é de 150 km², São joão das Missões\n"
          ]
        }
      ]
    },
    {
      "cell_type": "code",
      "source": [
        "área1  = 250 >150\n",
        "área2  = 150 > 250\n",
        "área1, área2 = 250 >150, 150 > 250\n",
        "print (\" a área maior da cidade é\") , área1, área2, \"São João das Missões\"\n"
      ],
      "metadata": {
        "colab": {
          "base_uri": "https://localhost:8080/"
        },
        "id": "gfFXfsiKGlyl",
        "outputId": "f65ca7fc-160e-4475-9b08-322763ac9e07"
      },
      "execution_count": null,
      "outputs": [
        {
          "output_type": "stream",
          "name": "stdout",
          "text": [
            " a área maior da cidade é\n"
          ]
        },
        {
          "output_type": "execute_result",
          "data": {
            "text/plain": [
              "(None, True, False, 'São João das Missões')"
            ]
          },
          "metadata": {},
          "execution_count": 4
        }
      ]
    },
    {
      "cell_type": "code",
      "source": [
        "biomas_brasileiros = \"amazônia\", \"cerrado\", \"pantanal\"\n",
        "print (biomas_brasileiros)"
      ],
      "metadata": {
        "colab": {
          "base_uri": "https://localhost:8080/"
        },
        "id": "w1jXa_dyZ5vQ",
        "outputId": "01f83dd2-8901-4138-d036-0a8ebc62978d"
      },
      "execution_count": null,
      "outputs": [
        {
          "output_type": "stream",
          "name": "stdout",
          "text": [
            "('amazônia', 'cerrado', 'pantanal')\n"
          ]
        }
      ]
    },
    {
      "cell_type": "code",
      "source": [
        "append = biomas_brasileiros\n",
        "print  (\"os biomas_brasileiros são , amazônia, cerrado, pantanal, mata altantica\")"
      ],
      "metadata": {
        "colab": {
          "base_uri": "https://localhost:8080/"
        },
        "id": "a6wRrwB1b-pZ",
        "outputId": "4114e857-2041-4f49-ec7d-78aae75a0d1b"
      },
      "execution_count": null,
      "outputs": [
        {
          "output_type": "stream",
          "name": "stdout",
          "text": [
            "os biomas_brasileiros são , amazônia, cerrado, pantanal, mata altantica\n"
          ]
        }
      ]
    },
    {
      "cell_type": "code",
      "source": [
        "len = biomas_brasileiros\n",
        "print (len)"
      ],
      "metadata": {
        "colab": {
          "base_uri": "https://localhost:8080/"
        },
        "id": "ykwJboL0exxC",
        "outputId": "21d1978b-6760-4547-9d7f-dfe36c9f2d10"
      },
      "execution_count": null,
      "outputs": [
        {
          "output_type": "stream",
          "name": "stdout",
          "text": [
            "('amazônia', 'cerrado', 'pantanal')\n"
          ]
        }
      ]
    },
    {
      "cell_type": "code",
      "source": [
        "coordenadas = (\"latitude, longitude\")\n",
        "latitude = 157939,\n",
        "longitude =  478828\n",
        "print (coordenadas) , latitude, longitude"
      ],
      "metadata": {
        "colab": {
          "base_uri": "https://localhost:8080/"
        },
        "id": "UVabF-V0fFah",
        "outputId": "7c31eeb7-ec9d-457d-fc80-c132bec32eb2"
      },
      "execution_count": null,
      "outputs": [
        {
          "output_type": "stream",
          "name": "stdout",
          "text": [
            "latitude, longitude\n"
          ]
        },
        {
          "output_type": "execute_result",
          "data": {
            "text/plain": [
              "(None, (157939,), 478828)"
            ]
          },
          "metadata": {},
          "execution_count": 47
        }
      ]
    },
    {
      "cell_type": "code",
      "source": [
        "dados_município = (\"nome: São Paulo\", \"população: 12325232\", \"área_km²: 1521.11\")\n",
        "print (dados_município)"
      ],
      "metadata": {
        "colab": {
          "base_uri": "https://localhost:8080/"
        },
        "id": "12zxB642jgFy",
        "outputId": "bce803b7-62c9-4394-ab82-2d6308c3db66"
      },
      "execution_count": 52,
      "outputs": [
        {
          "output_type": "stream",
          "name": "stdout",
          "text": [
            "('nome: São Paulo', 'população: 12325232', 'área_km²: 1521.11')\n"
          ]
        }
      ]
    }
  ]
}